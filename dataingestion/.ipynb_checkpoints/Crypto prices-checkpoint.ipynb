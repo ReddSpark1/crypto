{
 "cells": [
  {
   "cell_type": "markdown",
   "id": "59505d78",
   "metadata": {},
   "source": [
    "This notebook will download the last crypto price data and place it as csv files in a subfolder"
   ]
  },
  {
   "cell_type": "code",
   "execution_count": null,
   "id": "c406ff1e",
   "metadata": {},
   "outputs": [],
   "source": [
    "api_key='a8af0c03-a3cd-41df-941e-738c512e01ed'"
   ]
  },
  {
   "cell_type": "code",
   "execution_count": 2,
   "id": "e33c66cd",
   "metadata": {},
   "outputs": [],
   "source": [
    "import config"
   ]
  },
  {
   "cell_type": "code",
   "execution_count": null,
   "id": "4f1cf728",
   "metadata": {},
   "outputs": [],
   "source": []
  }
 ],
 "metadata": {
  "kernelspec": {
   "display_name": "Python 3 (ipykernel)",
   "language": "python",
   "name": "python3"
  },
  "language_info": {
   "codemirror_mode": {
    "name": "ipython",
    "version": 3
   },
   "file_extension": ".py",
   "mimetype": "text/x-python",
   "name": "python",
   "nbconvert_exporter": "python",
   "pygments_lexer": "ipython3",
   "version": "3.9.13"
  }
 },
 "nbformat": 4,
 "nbformat_minor": 5
}
